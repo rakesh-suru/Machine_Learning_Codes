{
  "nbformat": 4,
  "nbformat_minor": 0,
  "metadata": {
    "colab": {
      "provenance": []
    },
    "kernelspec": {
      "name": "python3",
      "display_name": "Python 3"
    },
    "language_info": {
      "name": "python"
    }
  },
  "cells": [
    {
      "cell_type": "code",
      "execution_count": null,
      "metadata": {
        "colab": {
          "base_uri": "https://localhost:8080/"
        },
        "id": "LZ8Fri1_cfki",
        "outputId": "4aff42b1-a61b-4c4b-f66f-ae69249c50c4"
      },
      "outputs": [
        {
          "output_type": "stream",
          "name": "stdout",
          "text": [
            "Generation 1: Best Chromosome = [1, 1, 1, 0, 0], x = 28, Fitness = 784\n",
            "Generation 2: Best Chromosome = [1, 1, 1, 1, 1], x = 31, Fitness = 961\n",
            "Generation 3: Best Chromosome = [1, 1, 1, 1, 1], x = 31, Fitness = 961\n",
            "Generation 4: Best Chromosome = [1, 1, 1, 1, 1], x = 31, Fitness = 961\n",
            "Generation 5: Best Chromosome = [1, 1, 1, 1, 1], x = 31, Fitness = 961\n",
            "\n",
            " Final Best Chromosome:  [1, 1, 1, 1, 1]\n",
            "Final x:  31\n",
            "Final Fitness (x^2):  961\n"
          ]
        }
      ],
      "source": [
        "from os import pardir\n",
        "import random\n",
        "\n",
        "def decode(chromosome):\n",
        "  return int(\"\".join(map(str, chromosome)),2)\n",
        "\n",
        "def fitness_function(chromosome):\n",
        "  x = decode(chromosome)\n",
        "  return x * x\n",
        "\n",
        "#Main GA function with elitism\n",
        "def genetic_algorithm(chromosome_length, population_size, num_generations):\n",
        "\n",
        "  #Step 1 - Generate Initial Population\n",
        "  population = [[random.randint(0,1) for _ in range(chromosome_length)] for _ in range(population_size)]\n",
        "\n",
        "  for generation in range(num_generations):\n",
        "    #Step 2 - Calculate Fitness\n",
        "    fitness_values = [fitness_function(chrom) for chrom in population]\n",
        "\n",
        "    #Step3 - Find the best solution in current generation\n",
        "    best_idx = fitness_values.index(max(fitness_values))\n",
        "    best_chromosome = population[best_idx]\n",
        "    best_fitness = fitness_values[best_idx]\n",
        "    best_x = decode(best_chromosome)\n",
        "\n",
        "    #Print best of this generation\n",
        "    print(f\"Generation {generation+1}: Best Chromosome = {best_chromosome}, x = {best_x}, Fitness = {best_fitness}\")\n",
        "\n",
        "    #Step 4; Create next generation\n",
        "    new_population = []\n",
        "    while len(new_population) < population_size:\n",
        "\n",
        "      #Select two parents randomply\n",
        "      parent1 = random.choice(population)\n",
        "      parent2 = random.choice(population)\n",
        "\n",
        "      #Crossover\n",
        "      crossover_point = random.randint(1, chromosome_length-1)\n",
        "      child = parent1[:crossover_point] + parent2[crossover_point:]\n",
        "\n",
        "      #Mutation\n",
        "      for i in range(chromosome_length):\n",
        "        if random.random() < 0.1:\n",
        "          child[i] = 1 - child[i] #flip bit\n",
        "\n",
        "      #Add child to new population\n",
        "      new_population.append(child)\n",
        "\n",
        "    #Step 5- Elitism - replace worst with best from prev gen\n",
        "    new_fitnesses = [fitness_function(c) for c in new_population]\n",
        "    worst_idx = new_fitnesses.index(min(new_fitnesses))\n",
        "    new_population[worst_idx] = best_chromosome.copy()\n",
        "\n",
        "    #Update population\n",
        "    population = new_population\n",
        "\n",
        "  #Final best solution\n",
        "  final_fitness = [fitness_function(c) for c in population]\n",
        "  best_idx = final_fitness.index(max(final_fitness))\n",
        "  best = population[best_idx]\n",
        "  best_x = decode(best)\n",
        "  best_fit = final_fitness[best_idx]\n",
        "\n",
        "  print(\"\\n Final Best Chromosome: \", best)\n",
        "  print(\"Final x: \", best_x)\n",
        "  print(\"Final Fitness (x^2): \", best_fit)\n",
        "\n",
        "chromosome_length = 5\n",
        "population_size = 6\n",
        "num_generations = 5\n",
        "\n",
        "genetic_algorithm(chromosome_length, population_size, num_generations)"
      ]
    },
    {
      "cell_type": "code",
      "source": [],
      "metadata": {
        "id": "f51z5QFAi49U"
      },
      "execution_count": null,
      "outputs": []
    }
  ]
}